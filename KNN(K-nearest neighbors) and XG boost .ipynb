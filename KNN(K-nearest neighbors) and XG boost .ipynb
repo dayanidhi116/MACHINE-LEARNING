{
  "nbformat": 4,
  "nbformat_minor": 0,
  "metadata": {
    "colab": {
      "provenance": [],
      "authorship_tag": "ABX9TyODBWk1mvQZqYIZ/xtjCqn6",
      "include_colab_link": true
    },
    "kernelspec": {
      "name": "python3",
      "display_name": "Python 3"
    },
    "language_info": {
      "name": "python"
    }
  },
  "cells": [
    {
      "cell_type": "markdown",
      "metadata": {
        "id": "view-in-github",
        "colab_type": "text"
      },
      "source": [
        "<a href=\"https://colab.research.google.com/github/dayanidhi116/MACHINE-LEARNING/blob/main/KNN(K-nearest%20neighbors)%20and%20XG%20boost%20.ipynb\" target=\"_parent\"><img src=\"https://colab.research.google.com/assets/colab-badge.svg\" alt=\"Open In Colab\"/></a>"
      ]
    },
    {
      "cell_type": "code",
      "source": [
        "import pandas as pd\n",
        "from sklearn.model_selection import train_test_split\n",
        "from sklearn.preprocessing import StandardScaler\n",
        "from sklearn.neighbors import KNeighborsClassifier\n",
        "from sklearn.metrics import classification_report, confusion_matrix, accuracy_score\n",
        "\n",
        "# Load dataset\n",
        "url = \"https://cf-courses-data.s3.us.cloud-object-storage.appdomain.cloud/IBMDeveloperSkillsNetwork-ML0101EN-SkillsNetwork/labs/Module%203/data/creditcard.csv\"\n",
        "data = pd.read_csv(url)\n",
        "\n",
        "# Separate features and target\n",
        "X = data.drop('Class', axis=1)\n",
        "y = data['Class']\n",
        "\n",
        "# Train-test split (with stratify for class balance)\n",
        "X_train, X_test, y_train, y_test = train_test_split(\n",
        "    X, y, test_size=0.3, random_state=42, stratify=y\n",
        ")\n",
        "\n",
        "# Feature scaling (essential for KNN)\n",
        "scaler = StandardScaler()\n",
        "X_train_scaled = scaler.fit_transform(X_train)\n",
        "X_test_scaled = scaler.transform(X_test)\n",
        "\n",
        "# ---------------------- KNN MODEL ----------------------\n",
        "knn = KNeighborsClassifier(n_neighbors=5)\n",
        "knn.fit(X_train_scaled, y_train)\n",
        "knn_preds = knn.predict(X_test_scaled)\n",
        "\n",
        "# Evaluation\n",
        "print(\"\\n--- KNN Classifier Results ---\")\n",
        "print(\"Accuracy:\", accuracy_score(y_test, knn_preds))\n",
        "print(\"Confusion Matrix:\\n\", confusion_matrix(y_test, knn_preds))\n",
        "print(\"Classification Report:\\n\", classification_report(y_test, knn_preds, digits=4))\n"
      ],
      "metadata": {
        "colab": {
          "base_uri": "https://localhost:8080/"
        },
        "id": "8LDU0HI0i863",
        "outputId": "6c89c433-94df-4ad0-db19-cbde7c2210f9"
      },
      "execution_count": null,
      "outputs": [
        {
          "output_type": "stream",
          "name": "stdout",
          "text": [
            "\n",
            "--- KNN Classifier Results ---\n",
            "Accuracy: 0.9994148145547324\n",
            "Confusion Matrix:\n",
            " [[85285    10]\n",
            " [   40   108]]\n",
            "Classification Report:\n",
            "               precision    recall  f1-score   support\n",
            "\n",
            "           0     0.9995    0.9999    0.9997     85295\n",
            "           1     0.9153    0.7297    0.8120       148\n",
            "\n",
            "    accuracy                         0.9994     85443\n",
            "   macro avg     0.9574    0.8648    0.9059     85443\n",
            "weighted avg     0.9994    0.9994    0.9994     85443\n",
            "\n"
          ]
        }
      ]
    },
    {
      "cell_type": "code",
      "execution_count": null,
      "metadata": {
        "colab": {
          "base_uri": "https://localhost:8080/"
        },
        "id": "otumHfr2h1-k",
        "outputId": "24c984ad-0f3e-4a68-8bee-5372878e34e0"
      },
      "outputs": [
        {
          "output_type": "stream",
          "name": "stdout",
          "text": [
            "\n",
            "--- Random Forest Results ---\n",
            "Accuracy: 0.9994499256814484\n",
            "Confusion Matrix:\n",
            " [[85292     3]\n",
            " [   44   104]]\n",
            "Classification Report:\n",
            "               precision    recall  f1-score   support\n",
            "\n",
            "           0     0.9995    1.0000    0.9997     85295\n",
            "           1     0.9720    0.7027    0.8157       148\n",
            "\n",
            "    accuracy                         0.9994     85443\n",
            "   macro avg     0.9857    0.8513    0.9077     85443\n",
            "weighted avg     0.9994    0.9994    0.9994     85443\n",
            "\n"
          ]
        },
        {
          "output_type": "stream",
          "name": "stderr",
          "text": [
            "/usr/local/lib/python3.11/dist-packages/xgboost/core.py:158: UserWarning: [04:40:23] WARNING: /workspace/src/learner.cc:740: \n",
            "Parameters: { \"use_label_encoder\" } are not used.\n",
            "\n",
            "  warnings.warn(smsg, UserWarning)\n"
          ]
        },
        {
          "output_type": "stream",
          "name": "stdout",
          "text": [
            "\n",
            "--- XGBoost Results ---\n",
            "Accuracy: 0.9995084442259752\n",
            "Confusion Matrix:\n",
            " [[85285    10]\n",
            " [   32   116]]\n",
            "Classification Report:\n",
            "               precision    recall  f1-score   support\n",
            "\n",
            "           0     0.9996    0.9999    0.9998     85295\n",
            "           1     0.9206    0.7838    0.8467       148\n",
            "\n",
            "    accuracy                         0.9995     85443\n",
            "   macro avg     0.9601    0.8918    0.9232     85443\n",
            "weighted avg     0.9995    0.9995    0.9995     85443\n",
            "\n"
          ]
        }
      ],
      "source": [
        "import pandas as pd\n",
        "from sklearn.model_selection import train_test_split\n",
        "from sklearn.preprocessing import StandardScaler\n",
        "from sklearn.ensemble import RandomForestClassifier\n",
        "from xgboost import XGBClassifier\n",
        "from sklearn.metrics import classification_report, confusion_matrix, accuracy_score\n",
        "\n",
        "# Load dataset\n",
        "url = \"https://cf-courses-data.s3.us.cloud-object-storage.appdomain.cloud/IBMDeveloperSkillsNetwork-ML0101EN-SkillsNetwork/labs/Module%203/data/creditcard.csv\"\n",
        "data = pd.read_csv(url)\n",
        "\n",
        "# Separate features and target\n",
        "X = data.drop('Class', axis=1)\n",
        "y = data['Class']\n",
        "\n",
        "# Train-test split\n",
        "X_train, X_test, y_train, y_test = train_test_split(\n",
        "    X, y, test_size=0.3, random_state=42, stratify=y\n",
        ")\n",
        "\n",
        "# Feature scaling (not required for tree models but can be consistent)\n",
        "scaler = StandardScaler()\n",
        "X_train_scaled = scaler.fit_transform(X_train)\n",
        "X_test_scaled = scaler.transform(X_test)\n",
        "\n",
        "# ---------------------- RANDOM FOREST ----------------------\n",
        "rf = RandomForestClassifier(n_estimators=100, class_weight='balanced', random_state=42)\n",
        "rf.fit(X_train, y_train)\n",
        "rf_preds = rf.predict(X_test)\n",
        "\n",
        "print(\"\\n--- Random Forest Results ---\")\n",
        "print(\"Accuracy:\", accuracy_score(y_test, rf_preds))\n",
        "print(\"Confusion Matrix:\\n\", confusion_matrix(y_test, rf_preds))\n",
        "print(\"Classification Report:\\n\", classification_report(y_test, rf_preds, digits=4))\n",
        "\n",
        "# ---------------------- XGBOOST ----------------------\n",
        "xgb = XGBClassifier(scale_pos_weight=99, use_label_encoder=False, eval_metric='logloss', random_state=42)\n",
        "xgb.fit(X_train, y_train)\n",
        "xgb_preds = xgb.predict(X_test)\n",
        "\n",
        "print(\"\\n--- XGBoost Results ---\")\n",
        "print(\"Accuracy:\", accuracy_score(y_test, xgb_preds))\n",
        "print(\"Confusion Matrix:\\n\", confusion_matrix(y_test, xgb_preds))\n",
        "print(\"Classification Report:\\n\", classification_report(y_test, xgb_preds, digits=4))\n"
      ]
    }
  ]
}