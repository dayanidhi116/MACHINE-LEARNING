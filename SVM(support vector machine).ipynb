{
  "nbformat": 4,
  "nbformat_minor": 0,
  "metadata": {
    "colab": {
      "provenance": [],
      "authorship_tag": "ABX9TyMlEL/PX2pXym3IWs8GB3Gr",
      "include_colab_link": true
    },
    "kernelspec": {
      "name": "python3",
      "display_name": "Python 3"
    },
    "language_info": {
      "name": "python"
    }
  },
  "cells": [
    {
      "cell_type": "markdown",
      "metadata": {
        "id": "view-in-github",
        "colab_type": "text"
      },
      "source": [
        "<a href=\"https://colab.research.google.com/github/dayanidhi116/MACHINE-LEARNING/blob/main/SVM(support%20vector%20machine).ipynb\" target=\"_parent\"><img src=\"https://colab.research.google.com/assets/colab-badge.svg\" alt=\"Open In Colab\"/></a>"
      ]
    },
    {
      "cell_type": "code",
      "execution_count": 1,
      "metadata": {
        "colab": {
          "base_uri": "https://localhost:8080/"
        },
        "id": "fCDwUd2PgNml",
        "outputId": "1ac07798-fc34-4275-c8ab-1c1180dbd310"
      },
      "outputs": [
        {
          "output_type": "stream",
          "name": "stdout",
          "text": [
            "\n",
            "--- Decision Tree Results ---\n",
            "Accuracy: 0.9741465070280771\n",
            "Confusion Matrix:\n",
            " [[83109  2186]\n",
            " [   23   125]]\n",
            "Classification Report:\n",
            "               precision    recall  f1-score   support\n",
            "\n",
            "           0     0.9997    0.9744    0.9869     85295\n",
            "           1     0.0541    0.8446    0.1017       148\n",
            "\n",
            "    accuracy                         0.9741     85443\n",
            "   macro avg     0.5269    0.9095    0.5443     85443\n",
            "weighted avg     0.9981    0.9741    0.9854     85443\n",
            "\n",
            "\n",
            "--- SVM Results ---\n",
            "Accuracy: 0.9968517023044603\n",
            "Confusion Matrix:\n",
            " [[85075   220]\n",
            " [   49    99]]\n",
            "Classification Report:\n",
            "               precision    recall  f1-score   support\n",
            "\n",
            "           0     0.9994    0.9974    0.9984     85295\n",
            "           1     0.3103    0.6689    0.4240       148\n",
            "\n",
            "    accuracy                         0.9969     85443\n",
            "   macro avg     0.6549    0.8332    0.7112     85443\n",
            "weighted avg     0.9982    0.9969    0.9974     85443\n",
            "\n"
          ]
        }
      ],
      "source": [
        "import pandas as pd\n",
        "from sklearn.model_selection import train_test_split\n",
        "from sklearn.preprocessing import StandardScaler\n",
        "from sklearn.tree import DecisionTreeClassifier\n",
        "from sklearn.svm import SVC\n",
        "from sklearn.metrics import classification_report, confusion_matrix, accuracy_score\n",
        "\n",
        "# Load dataset\n",
        "url = \"https://cf-courses-data.s3.us.cloud-object-storage.appdomain.cloud/IBMDeveloperSkillsNetwork-ML0101EN-SkillsNetwork/labs/Module%203/data/creditcard.csv\"\n",
        "data = pd.read_csv(url)\n",
        "\n",
        "# Separate features and target\n",
        "X = data.drop('Class', axis=1)\n",
        "y = data['Class']\n",
        "\n",
        "# Train-test split (stratified to handle imbalance)\n",
        "X_train, X_test, y_train, y_test = train_test_split(\n",
        "    X, y, test_size=0.3, random_state=42, stratify=y\n",
        ")\n",
        "\n",
        "# Scale features for SVM\n",
        "scaler = StandardScaler()\n",
        "X_train_scaled = scaler.fit_transform(X_train)\n",
        "X_test_scaled = scaler.transform(X_test)\n",
        "\n",
        "# ---------------------- DECISION TREE ----------------------\n",
        "tree = DecisionTreeClassifier(max_depth=5, class_weight='balanced', random_state=42)\n",
        "tree.fit(X_train, y_train)\n",
        "tree_preds = tree.predict(X_test)\n",
        "\n",
        "print(\"\\n--- Decision Tree Results ---\")\n",
        "print(\"Accuracy:\", accuracy_score(y_test, tree_preds))\n",
        "print(\"Confusion Matrix:\\n\", confusion_matrix(y_test, tree_preds))\n",
        "print(\"Classification Report:\\n\", classification_report(y_test, tree_preds, digits=4))\n",
        "\n",
        "# ---------------------- SVM ----------------------\n",
        "svm = SVC(kernel='rbf', class_weight='balanced', probability=True, random_state=42)\n",
        "svm.fit(X_train_scaled, y_train)\n",
        "svm_preds = svm.predict(X_test_scaled)\n",
        "\n",
        "print(\"\\n--- SVM Results ---\")\n",
        "print(\"Accuracy:\", accuracy_score(y_test, svm_preds))\n",
        "print(\"Confusion Matrix:\\n\", confusion_matrix(y_test, svm_preds))\n",
        "print(\"Classification Report:\\n\", classification_report(y_test, svm_preds, digits=4))\n"
      ]
    }
  ]
}